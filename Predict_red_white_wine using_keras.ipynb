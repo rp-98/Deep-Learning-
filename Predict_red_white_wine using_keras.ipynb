{
 "cells": [
  {
   "cell_type": "code",
   "execution_count": 4,
   "metadata": {},
   "outputs": [
    {
     "data": {
      "text/plain": [
       "'2.3.0'"
      ]
     },
     "execution_count": 4,
     "metadata": {},
     "output_type": "execute_result"
    }
   ],
   "source": [
    "import tensorflow as tf\n",
    "import keras\n",
    "keras.__version__\n"
   ]
  },
  {
   "cell_type": "code",
   "execution_count": 6,
   "metadata": {},
   "outputs": [],
   "source": [
    "import pandas as pd"
   ]
  },
  {
   "cell_type": "code",
   "execution_count": 15,
   "metadata": {},
   "outputs": [
    {
     "data": {
      "text/html": [
       "<div>\n",
       "<style scoped>\n",
       "    .dataframe tbody tr th:only-of-type {\n",
       "        vertical-align: middle;\n",
       "    }\n",
       "\n",
       "    .dataframe tbody tr th {\n",
       "        vertical-align: top;\n",
       "    }\n",
       "\n",
       "    .dataframe thead th {\n",
       "        text-align: right;\n",
       "    }\n",
       "</style>\n",
       "<table border=\"1\" class=\"dataframe\">\n",
       "  <thead>\n",
       "    <tr style=\"text-align: right;\">\n",
       "      <th></th>\n",
       "      <th>fixed acidity</th>\n",
       "      <th>volatile acidity</th>\n",
       "      <th>citric acid</th>\n",
       "      <th>residual sugar</th>\n",
       "      <th>chlorides</th>\n",
       "      <th>free sulfur dioxide</th>\n",
       "      <th>total sulfur dioxide</th>\n",
       "      <th>density</th>\n",
       "      <th>pH</th>\n",
       "      <th>sulphates</th>\n",
       "      <th>alcohol</th>\n",
       "      <th>quality</th>\n",
       "    </tr>\n",
       "  </thead>\n",
       "  <tbody>\n",
       "    <tr>\n",
       "      <td>0</td>\n",
       "      <td>7.0</td>\n",
       "      <td>0.27</td>\n",
       "      <td>0.36</td>\n",
       "      <td>20.7</td>\n",
       "      <td>0.045</td>\n",
       "      <td>45.0</td>\n",
       "      <td>170.0</td>\n",
       "      <td>1.0010</td>\n",
       "      <td>3.00</td>\n",
       "      <td>0.45</td>\n",
       "      <td>8.8</td>\n",
       "      <td>6</td>\n",
       "    </tr>\n",
       "    <tr>\n",
       "      <td>1</td>\n",
       "      <td>6.3</td>\n",
       "      <td>0.30</td>\n",
       "      <td>0.34</td>\n",
       "      <td>1.6</td>\n",
       "      <td>0.049</td>\n",
       "      <td>14.0</td>\n",
       "      <td>132.0</td>\n",
       "      <td>0.9940</td>\n",
       "      <td>3.30</td>\n",
       "      <td>0.49</td>\n",
       "      <td>9.5</td>\n",
       "      <td>6</td>\n",
       "    </tr>\n",
       "    <tr>\n",
       "      <td>2</td>\n",
       "      <td>8.1</td>\n",
       "      <td>0.28</td>\n",
       "      <td>0.40</td>\n",
       "      <td>6.9</td>\n",
       "      <td>0.050</td>\n",
       "      <td>30.0</td>\n",
       "      <td>97.0</td>\n",
       "      <td>0.9951</td>\n",
       "      <td>3.26</td>\n",
       "      <td>0.44</td>\n",
       "      <td>10.1</td>\n",
       "      <td>6</td>\n",
       "    </tr>\n",
       "    <tr>\n",
       "      <td>3</td>\n",
       "      <td>7.2</td>\n",
       "      <td>0.23</td>\n",
       "      <td>0.32</td>\n",
       "      <td>8.5</td>\n",
       "      <td>0.058</td>\n",
       "      <td>47.0</td>\n",
       "      <td>186.0</td>\n",
       "      <td>0.9956</td>\n",
       "      <td>3.19</td>\n",
       "      <td>0.40</td>\n",
       "      <td>9.9</td>\n",
       "      <td>6</td>\n",
       "    </tr>\n",
       "    <tr>\n",
       "      <td>4</td>\n",
       "      <td>7.2</td>\n",
       "      <td>0.23</td>\n",
       "      <td>0.32</td>\n",
       "      <td>8.5</td>\n",
       "      <td>0.058</td>\n",
       "      <td>47.0</td>\n",
       "      <td>186.0</td>\n",
       "      <td>0.9956</td>\n",
       "      <td>3.19</td>\n",
       "      <td>0.40</td>\n",
       "      <td>9.9</td>\n",
       "      <td>6</td>\n",
       "    </tr>\n",
       "  </tbody>\n",
       "</table>\n",
       "</div>"
      ],
      "text/plain": [
       "   fixed acidity  volatile acidity  citric acid  residual sugar  chlorides  \\\n",
       "0            7.0              0.27         0.36            20.7      0.045   \n",
       "1            6.3              0.30         0.34             1.6      0.049   \n",
       "2            8.1              0.28         0.40             6.9      0.050   \n",
       "3            7.2              0.23         0.32             8.5      0.058   \n",
       "4            7.2              0.23         0.32             8.5      0.058   \n",
       "\n",
       "   free sulfur dioxide  total sulfur dioxide  density    pH  sulphates  \\\n",
       "0                 45.0                 170.0   1.0010  3.00       0.45   \n",
       "1                 14.0                 132.0   0.9940  3.30       0.49   \n",
       "2                 30.0                  97.0   0.9951  3.26       0.44   \n",
       "3                 47.0                 186.0   0.9956  3.19       0.40   \n",
       "4                 47.0                 186.0   0.9956  3.19       0.40   \n",
       "\n",
       "   alcohol  quality  \n",
       "0      8.8        6  \n",
       "1      9.5        6  \n",
       "2     10.1        6  \n",
       "3      9.9        6  \n",
       "4      9.9        6  "
      ]
     },
     "execution_count": 15,
     "metadata": {},
     "output_type": "execute_result"
    }
   ],
   "source": [
    "#white wine quality data\n",
    "path=\"http://archive.ics.uci.edu/ml/machine-learning-databases/wine-quality/winequality-white.csv\"\n",
    "df=pd.read_csv(path,sep=';')\n",
    "df.head()"
   ]
  },
  {
   "cell_type": "code",
   "execution_count": 13,
   "metadata": {},
   "outputs": [
    {
     "name": "stdout",
     "output_type": "stream",
     "text": [
      "<class 'pandas.core.frame.DataFrame'>\n",
      "RangeIndex: 4898 entries, 0 to 4897\n",
      "Data columns (total 12 columns):\n",
      "fixed acidity           4898 non-null float64\n",
      "volatile acidity        4898 non-null float64\n",
      "citric acid             4898 non-null float64\n",
      "residual sugar          4898 non-null float64\n",
      "chlorides               4898 non-null float64\n",
      "free sulfur dioxide     4898 non-null float64\n",
      "total sulfur dioxide    4898 non-null float64\n",
      "density                 4898 non-null float64\n",
      "pH                      4898 non-null float64\n",
      "sulphates               4898 non-null float64\n",
      "alcohol                 4898 non-null float64\n",
      "quality                 4898 non-null int64\n",
      "dtypes: float64(11), int64(1)\n",
      "memory usage: 459.3 KB\n"
     ]
    }
   ],
   "source": [
    "df.info()"
   ]
  },
  {
   "cell_type": "code",
   "execution_count": 14,
   "metadata": {},
   "outputs": [
    {
     "data": {
      "text/plain": [
       "(4898, 12)"
      ]
     },
     "execution_count": 14,
     "metadata": {},
     "output_type": "execute_result"
    }
   ],
   "source": [
    "df.shape"
   ]
  },
  {
   "cell_type": "code",
   "execution_count": 16,
   "metadata": {},
   "outputs": [],
   "source": [
    "from matplotlib import pyplot as plt"
   ]
  },
  {
   "cell_type": "code",
   "execution_count": 18,
   "metadata": {},
   "outputs": [
    {
     "data": {
      "text/plain": [
       "(array([ 37., 808., 969., 761., 765., 625., 427., 368., 110.,  28.]),\n",
       " array([ 8.  ,  8.62,  9.24,  9.86, 10.48, 11.1 , 11.72, 12.34, 12.96,\n",
       "        13.58, 14.2 ]),\n",
       " <a list of 10 Patch objects>)"
      ]
     },
     "execution_count": 18,
     "metadata": {},
     "output_type": "execute_result"
    },
    {
     "data": {
      "image/png": "[encoded data removed]",
      "text/plain": [
       "<Figure size 432x288 with 1 Axes>"
      ]
     },
     "metadata": {
      "needs_background": "light"
     },
     "output_type": "display_data"
    }
   ],
   "source": [
    "plt.hist(df.alcohol, 10, facecolor='red', ec=\"black\", lw=0.5, alpha=0.5, label=\"White wine\")"
   ]
  },
  {
   "cell_type": "code",
   "execution_count": 19,
   "metadata": {},
   "outputs": [
    {
     "name": "stdout",
     "output_type": "stream",
     "text": [
      "(array([   0,  317, 1606, 1256,  906,  675,  131,    7], dtype=int64), array([ 7,  8,  9, 10, 11, 12, 13, 14, 15]))\n"
     ]
    }
   ],
   "source": [
    "import numpy as np\n",
    "print(np.histogram(df.alcohol, bins=[7,8,9,10,11,12,13,14,15]))"
   ]
  },
  {
   "cell_type": "code",
   "execution_count": 20,
   "metadata": {},
   "outputs": [
    {
     "data": {
      "text/plain": [
       "<matplotlib.collections.PathCollection at 0x1fd3da44470>"
      ]
     },
     "execution_count": 20,
     "metadata": {},
     "output_type": "execute_result"
    },
    {
     "data": {
      "image/png": "[encoded data removed]",
      "text/plain": [
       "<Figure size 432x288 with 1 Axes>"
      ]
     },
     "metadata": {
      "needs_background": "light"
     },
     "output_type": "display_data"
    }
   ],
   "source": [
    "plt.scatter(df['quality'], df[\"sulphates\"], color=\"red\")"
   ]
  },
  {
   "cell_type": "code",
   "execution_count": 21,
   "metadata": {},
   "outputs": [
    {
     "data": {
      "text/plain": [
       "array([3, 4, 5, 6, 7, 8, 9], dtype=int64)"
      ]
     },
     "execution_count": 21,
     "metadata": {},
     "output_type": "execute_result"
    }
   ],
   "source": [
    "np.unique(df['quality'])"
   ]
  },
  {
   "cell_type": "code",
   "execution_count": 22,
   "metadata": {},
   "outputs": [],
   "source": [
    "#red wine\n",
    "df2=pd.read_csv(\"http://archive.ics.uci.edu/ml/machine-learning-databases/wine-quality/winequality-red.csv\", sep=';')"
   ]
  },
  {
   "cell_type": "code",
   "execution_count": 23,
   "metadata": {},
   "outputs": [
    {
     "name": "stdout",
     "output_type": "stream",
     "text": [
      "<class 'pandas.core.frame.DataFrame'>\n",
      "RangeIndex: 1599 entries, 0 to 1598\n",
      "Data columns (total 12 columns):\n",
      "fixed acidity           1599 non-null float64\n",
      "volatile acidity        1599 non-null float64\n",
      "citric acid             1599 non-null float64\n",
      "residual sugar          1599 non-null float64\n",
      "chlorides               1599 non-null float64\n",
      "free sulfur dioxide     1599 non-null float64\n",
      "total sulfur dioxide    1599 non-null float64\n",
      "density                 1599 non-null float64\n",
      "pH                      1599 non-null float64\n",
      "sulphates               1599 non-null float64\n",
      "alcohol                 1599 non-null float64\n",
      "quality                 1599 non-null int64\n",
      "dtypes: float64(11), int64(1)\n",
      "memory usage: 150.0 KB\n"
     ]
    }
   ],
   "source": [
    "df2.info()"
   ]
  },
  {
   "cell_type": "code",
   "execution_count": 24,
   "metadata": {},
   "outputs": [],
   "source": [
    "# Add `type` column to `red` with value 1\n",
    "df2['type'] = 1\n",
    "\n",
    "# Add `type` column to `white` with value 0\n",
    "df['type'] = 0\n",
    "\n",
    "# Append `white` to `red`\n",
    "wines = df2.append(df, ignore_index=True)"
   ]
  },
  {
   "cell_type": "code",
   "execution_count": 25,
   "metadata": {},
   "outputs": [
    {
     "data": {
      "text/html": [
       "<div>\n",
       "<style scoped>\n",
       "    .dataframe tbody tr th:only-of-type {\n",
       "        vertical-align: middle;\n",
       "    }\n",
       "\n",
       "    .dataframe tbody tr th {\n",
       "        vertical-align: top;\n",
       "    }\n",
       "\n",
       "    .dataframe thead th {\n",
       "        text-align: right;\n",
       "    }\n",
       "</style>\n",
       "<table border=\"1\" class=\"dataframe\">\n",
       "  <thead>\n",
       "    <tr style=\"text-align: right;\">\n",
       "      <th></th>\n",
       "      <th>fixed acidity</th>\n",
       "      <th>volatile acidity</th>\n",
       "      <th>citric acid</th>\n",
       "      <th>residual sugar</th>\n",
       "      <th>chlorides</th>\n",
       "      <th>free sulfur dioxide</th>\n",
       "      <th>total sulfur dioxide</th>\n",
       "      <th>density</th>\n",
       "      <th>pH</th>\n",
       "      <th>sulphates</th>\n",
       "      <th>alcohol</th>\n",
       "      <th>quality</th>\n",
       "      <th>type</th>\n",
       "    </tr>\n",
       "  </thead>\n",
       "  <tbody>\n",
       "    <tr>\n",
       "      <td>6370</td>\n",
       "      <td>6.8</td>\n",
       "      <td>0.27</td>\n",
       "      <td>0.30</td>\n",
       "      <td>13.00</td>\n",
       "      <td>0.047</td>\n",
       "      <td>69.0</td>\n",
       "      <td>160.0</td>\n",
       "      <td>0.99705</td>\n",
       "      <td>3.16</td>\n",
       "      <td>0.50</td>\n",
       "      <td>9.6</td>\n",
       "      <td>6</td>\n",
       "      <td>0</td>\n",
       "    </tr>\n",
       "    <tr>\n",
       "      <td>2695</td>\n",
       "      <td>6.5</td>\n",
       "      <td>0.28</td>\n",
       "      <td>0.26</td>\n",
       "      <td>8.80</td>\n",
       "      <td>0.040</td>\n",
       "      <td>44.0</td>\n",
       "      <td>139.0</td>\n",
       "      <td>0.99560</td>\n",
       "      <td>3.32</td>\n",
       "      <td>0.37</td>\n",
       "      <td>10.2</td>\n",
       "      <td>6</td>\n",
       "      <td>0</td>\n",
       "    </tr>\n",
       "    <tr>\n",
       "      <td>6442</td>\n",
       "      <td>5.6</td>\n",
       "      <td>0.34</td>\n",
       "      <td>0.25</td>\n",
       "      <td>2.50</td>\n",
       "      <td>0.046</td>\n",
       "      <td>47.0</td>\n",
       "      <td>182.0</td>\n",
       "      <td>0.99093</td>\n",
       "      <td>3.21</td>\n",
       "      <td>0.40</td>\n",
       "      <td>11.3</td>\n",
       "      <td>5</td>\n",
       "      <td>0</td>\n",
       "    </tr>\n",
       "    <tr>\n",
       "      <td>3384</td>\n",
       "      <td>8.5</td>\n",
       "      <td>0.21</td>\n",
       "      <td>0.26</td>\n",
       "      <td>9.25</td>\n",
       "      <td>0.034</td>\n",
       "      <td>73.0</td>\n",
       "      <td>142.0</td>\n",
       "      <td>0.99450</td>\n",
       "      <td>3.05</td>\n",
       "      <td>0.37</td>\n",
       "      <td>11.4</td>\n",
       "      <td>6</td>\n",
       "      <td>0</td>\n",
       "    </tr>\n",
       "    <tr>\n",
       "      <td>1454</td>\n",
       "      <td>11.7</td>\n",
       "      <td>0.45</td>\n",
       "      <td>0.63</td>\n",
       "      <td>2.20</td>\n",
       "      <td>0.073</td>\n",
       "      <td>7.0</td>\n",
       "      <td>23.0</td>\n",
       "      <td>0.99974</td>\n",
       "      <td>3.21</td>\n",
       "      <td>0.69</td>\n",
       "      <td>10.9</td>\n",
       "      <td>6</td>\n",
       "      <td>1</td>\n",
       "    </tr>\n",
       "    <tr>\n",
       "      <td>4366</td>\n",
       "      <td>7.9</td>\n",
       "      <td>0.16</td>\n",
       "      <td>0.30</td>\n",
       "      <td>7.40</td>\n",
       "      <td>0.050</td>\n",
       "      <td>58.0</td>\n",
       "      <td>152.0</td>\n",
       "      <td>0.99612</td>\n",
       "      <td>3.12</td>\n",
       "      <td>0.37</td>\n",
       "      <td>9.5</td>\n",
       "      <td>6</td>\n",
       "      <td>0</td>\n",
       "    </tr>\n",
       "    <tr>\n",
       "      <td>3575</td>\n",
       "      <td>6.8</td>\n",
       "      <td>0.28</td>\n",
       "      <td>0.37</td>\n",
       "      <td>7.00</td>\n",
       "      <td>0.057</td>\n",
       "      <td>35.0</td>\n",
       "      <td>208.0</td>\n",
       "      <td>0.99730</td>\n",
       "      <td>3.57</td>\n",
       "      <td>0.55</td>\n",
       "      <td>10.2</td>\n",
       "      <td>5</td>\n",
       "      <td>0</td>\n",
       "    </tr>\n",
       "    <tr>\n",
       "      <td>4251</td>\n",
       "      <td>7.3</td>\n",
       "      <td>0.22</td>\n",
       "      <td>0.31</td>\n",
       "      <td>2.30</td>\n",
       "      <td>0.018</td>\n",
       "      <td>45.0</td>\n",
       "      <td>80.0</td>\n",
       "      <td>0.98936</td>\n",
       "      <td>3.06</td>\n",
       "      <td>0.34</td>\n",
       "      <td>12.9</td>\n",
       "      <td>7</td>\n",
       "      <td>0</td>\n",
       "    </tr>\n",
       "    <tr>\n",
       "      <td>5767</td>\n",
       "      <td>6.0</td>\n",
       "      <td>0.19</td>\n",
       "      <td>0.26</td>\n",
       "      <td>1.40</td>\n",
       "      <td>0.039</td>\n",
       "      <td>30.0</td>\n",
       "      <td>104.0</td>\n",
       "      <td>0.98998</td>\n",
       "      <td>3.32</td>\n",
       "      <td>0.41</td>\n",
       "      <td>12.4</td>\n",
       "      <td>6</td>\n",
       "      <td>0</td>\n",
       "    </tr>\n",
       "    <tr>\n",
       "      <td>4401</td>\n",
       "      <td>5.6</td>\n",
       "      <td>0.15</td>\n",
       "      <td>0.31</td>\n",
       "      <td>5.30</td>\n",
       "      <td>0.038</td>\n",
       "      <td>8.0</td>\n",
       "      <td>79.0</td>\n",
       "      <td>0.99230</td>\n",
       "      <td>3.30</td>\n",
       "      <td>0.39</td>\n",
       "      <td>10.5</td>\n",
       "      <td>6</td>\n",
       "      <td>0</td>\n",
       "    </tr>\n",
       "  </tbody>\n",
       "</table>\n",
       "</div>"
      ],
      "text/plain": [
       "      fixed acidity  volatile acidity  citric acid  residual sugar  chlorides  \\\n",
       "6370            6.8              0.27         0.30           13.00      0.047   \n",
       "2695            6.5              0.28         0.26            8.80      0.040   \n",
       "6442            5.6              0.34         0.25            2.50      0.046   \n",
       "3384            8.5              0.21         0.26            9.25      0.034   \n",
       "1454           11.7              0.45         0.63            2.20      0.073   \n",
       "4366            7.9              0.16         0.30            7.40      0.050   \n",
       "3575            6.8              0.28         0.37            7.00      0.057   \n",
       "4251            7.3              0.22         0.31            2.30      0.018   \n",
       "5767            6.0              0.19         0.26            1.40      0.039   \n",
       "4401            5.6              0.15         0.31            5.30      0.038   \n",
       "\n",
       "      free sulfur dioxide  total sulfur dioxide  density    pH  sulphates  \\\n",
       "6370                 69.0                 160.0  0.99705  3.16       0.50   \n",
       "2695                 44.0                 139.0  0.99560  3.32       0.37   \n",
       "6442                 47.0                 182.0  0.99093  3.21       0.40   \n",
       "3384                 73.0                 142.0  0.99450  3.05       0.37   \n",
       "1454                  7.0                  23.0  0.99974  3.21       0.69   \n",
       "4366                 58.0                 152.0  0.99612  3.12       0.37   \n",
       "3575                 35.0                 208.0  0.99730  3.57       0.55   \n",
       "4251                 45.0                  80.0  0.98936  3.06       0.34   \n",
       "5767                 30.0                 104.0  0.98998  3.32       0.41   \n",
       "4401                  8.0                  79.0  0.99230  3.30       0.39   \n",
       "\n",
       "      alcohol  quality  type  \n",
       "6370      9.6        6     0  \n",
       "2695     10.2        6     0  \n",
       "6442     11.3        5     0  \n",
       "3384     11.4        6     0  \n",
       "1454     10.9        6     1  \n",
       "4366      9.5        6     0  \n",
       "3575     10.2        5     0  \n",
       "4251     12.9        7     0  \n",
       "5767     12.4        6     0  \n",
       "4401     10.5        6     0  "
      ]
     },
     "execution_count": 25,
     "metadata": {},
     "output_type": "execute_result"
    }
   ],
   "source": [
    "wines.sample(10)"
   ]
  },
  {
   "cell_type": "code",
   "execution_count": 31,
   "metadata": {},
   "outputs": [
    {
     "data": {
      "image/png": "[encoded data removed]",
      "text/plain": [
       "<Figure size 432x288 with 2 Axes>"
      ]
     },
     "metadata": {
      "needs_background": "light"
     },
     "output_type": "display_data"
    }
   ],
   "source": [
    "import seaborn as sns\n",
    "corr = wines.corr()\n",
    "sns.heatmap(corr, \n",
    "            xticklabels=corr.columns.values,\n",
    "            yticklabels=corr.columns.values)\n",
    "plt.show()"
   ]
  },
  {
   "cell_type": "code",
   "execution_count": 35,
   "metadata": {},
   "outputs": [],
   "source": [
    "from sklearn.model_selection import train_test_split\n",
    "\n",
    "# Specify the data \n",
    "X=wines.iloc[:,0:11]\n",
    "\n",
    "# Specify the target labels and flatten the array \n",
    "y=np.ravel(wines.type)\n",
    "\n",
    "# Split the data up in train and test sets\n",
    "X_train, X_test, y_train, y_test = train_test_split(X, y, test_size=0.33, random_state=42)"
   ]
  },
  {
   "cell_type": "code",
   "execution_count": 33,
   "metadata": {},
   "outputs": [
    {
     "data": {
      "text/plain": [
       "(6497, 13)"
      ]
     },
     "execution_count": 33,
     "metadata": {},
     "output_type": "execute_result"
    }
   ],
   "source": [
    "wines.shape"
   ]
  },
  {
   "cell_type": "code",
   "execution_count": 70,
   "metadata": {},
   "outputs": [],
   "source": [
    " #Import `StandardScaler` from `sklearn.preprocessing`\n",
    "from sklearn.preprocessing import StandardScaler\n",
    "\n",
    "# Define the scaler \n",
    "scaler = StandardScaler().fit(X_train)\n",
    "\n",
    "# Scale the train set\n",
    "X_train = scaler.transform(X_train)\n",
    "\n",
    "# Scale the test set\n",
    "X_test = scaler.transform(X_test)"
   ]
  },
  {
   "cell_type": "code",
   "execution_count": 71,
   "metadata": {},
   "outputs": [
    {
     "data": {
      "text/plain": [
       "(4352, 11)"
      ]
     },
     "execution_count": 71,
     "metadata": {},
     "output_type": "execute_result"
    }
   ],
   "source": [
    "X_train.shape"
   ]
  },
  {
   "cell_type": "code",
   "execution_count": 72,
   "metadata": {},
   "outputs": [
    {
     "data": {
      "text/plain": [
       "(2145, 11)"
      ]
     },
     "execution_count": 72,
     "metadata": {},
     "output_type": "execute_result"
    }
   ],
   "source": [
    "X_test.shape"
   ]
  },
  {
   "cell_type": "code",
   "execution_count": 38,
   "metadata": {},
   "outputs": [],
   "source": [
    "# Import `Sequential` from `keras.models`\n",
    "from keras.models import Sequential\n"
   ]
  },
  {
   "cell_type": "code",
   "execution_count": 39,
   "metadata": {},
   "outputs": [],
   "source": [
    "# Import `Dense` from `keras.layers`\n",
    "from keras.layers import Dense\n",
    "\n",
    "# Initialize the constructor\n",
    "model = Sequential()\n",
    "\n",
    "# Add an input layer \n",
    "model.add(Dense(12, activation='relu', input_shape=(11,)))\n",
    "\n",
    "# Add one hidden layer \n",
    "model.add(Dense(8, activation='relu'))\n",
    "\n",
    "# Add an output layer \n",
    "model.add(Dense(1, activation='sigmoid'))"
   ]
  },
  {
   "cell_type": "code",
   "execution_count": 40,
   "metadata": {},
   "outputs": [
    {
     "name": "stdout",
     "output_type": "stream",
     "text": [
      "Model: \"sequential_1\"\n",
      "_________________________________________________________________\n",
      "Layer (type)                 Output Shape              Param #   \n",
      "=================================================================\n",
      "dense_1 (Dense)              (None, 12)                144       \n",
      "_________________________________________________________________\n",
      "dense_2 (Dense)              (None, 8)                 104       \n",
      "_________________________________________________________________\n",
      "dense_3 (Dense)              (None, 1)                 9         \n",
      "=================================================================\n",
      "Total params: 257\n",
      "Trainable params: 257\n",
      "Non-trainable params: 0\n",
      "_________________________________________________________________\n"
     ]
    },
    {
     "data": {
      "text/plain": [
       "[array([[ 3.43182743e-01,  2.76728272e-02, -2.48930156e-01,\n",
       "         -3.25326324e-01, -4.02547091e-01, -2.58747518e-01,\n",
       "         -2.58010566e-01, -9.89381969e-02,  4.08153415e-01,\n",
       "          3.95313501e-02,  4.70279932e-01,  4.46684420e-01],\n",
       "        [-3.88898492e-01, -4.45909917e-01, -4.16149288e-01,\n",
       "          1.50571525e-01, -3.60931933e-01, -2.15427309e-01,\n",
       "          2.18862653e-01,  3.14309716e-01, -4.43478107e-01,\n",
       "         -9.51536000e-02, -3.86712193e-01, -4.41551179e-01],\n",
       "        [ 2.88740039e-01, -1.36799544e-01, -7.74282813e-02,\n",
       "         -4.40279126e-01,  4.85289335e-01,  1.07336402e-01,\n",
       "          9.06913280e-02, -5.53810596e-03,  4.14652586e-01,\n",
       "         -5.00601709e-01, -1.36804909e-01, -3.74217749e-01],\n",
       "        [-1.53690606e-01, -1.87429577e-01,  1.71061575e-01,\n",
       "         -9.77211893e-02,  3.79448771e-01, -5.04242241e-01,\n",
       "          3.28201592e-01, -3.62083554e-01, -4.74689096e-01,\n",
       "         -2.39729583e-01, -4.00458306e-01,  1.58301175e-01],\n",
       "        [ 3.37035656e-01,  2.42541552e-01,  4.03089941e-01,\n",
       "         -2.45862693e-01,  4.07541990e-02, -3.64413559e-01,\n",
       "         -5.01471758e-03, -1.36617512e-01, -3.75370473e-01,\n",
       "          2.31250286e-01,  2.34242857e-01, -2.80814052e-01],\n",
       "        [-2.37362564e-01, -1.72411174e-01, -1.34008884e-01,\n",
       "          3.98960531e-01,  1.16785049e-01, -1.18207335e-01,\n",
       "         -4.27830011e-01,  7.91549683e-05,  5.21223545e-02,\n",
       "         -2.98814207e-01, -2.12898552e-02,  4.21836674e-01],\n",
       "        [-2.04874068e-01, -1.69852465e-01, -6.29475117e-02,\n",
       "          2.95330882e-01,  3.18253338e-01, -1.32138312e-01,\n",
       "          2.88319409e-01, -4.59281355e-01, -1.16003484e-01,\n",
       "          2.61594236e-01,  2.51867950e-01,  2.23056495e-01],\n",
       "        [-1.65985435e-01, -3.53819668e-01, -1.02752239e-01,\n",
       "         -3.72123271e-01,  4.66496170e-01, -3.59785438e-01,\n",
       "         -3.36803317e-01, -1.12631112e-01,  2.15826988e-01,\n",
       "         -4.35556412e-01,  1.50819540e-01, -2.54811823e-01],\n",
       "        [ 4.69966233e-01,  1.13193095e-01, -3.94111127e-01,\n",
       "          4.33508158e-01,  3.25129986e-01, -3.29467326e-01,\n",
       "          6.66537881e-02,  3.77802551e-01,  9.46508050e-02,\n",
       "          2.17868984e-01, -2.07433015e-01,  4.08170938e-01],\n",
       "        [ 1.90644264e-01,  4.46836650e-01,  3.71073961e-01,\n",
       "         -1.21592999e-01, -1.92148030e-01, -4.79477465e-01,\n",
       "         -1.37910992e-01,  1.71420753e-01, -3.48522395e-01,\n",
       "          4.12269235e-02,  5.13371825e-02, -3.30496788e-01],\n",
       "        [ 4.37978745e-01,  1.19599581e-01, -1.18414849e-01,\n",
       "         -2.56107479e-01,  1.74090028e-01,  2.17422187e-01,\n",
       "         -1.15228772e-01,  3.07376444e-01, -1.94206983e-01,\n",
       "          2.02828169e-01,  4.17267084e-02, -3.60494852e-03]], dtype=float32),\n",
       " array([0., 0., 0., 0., 0., 0., 0., 0., 0., 0., 0., 0.], dtype=float32),\n",
       " array([[-0.0607411 , -0.18272197,  0.40572333,  0.29874784,  0.02701378,\n",
       "         -0.14161035,  0.00433052, -0.33555633],\n",
       "        [ 0.03328097,  0.20716333,  0.4321081 , -0.2921084 ,  0.1561569 ,\n",
       "          0.29669827, -0.33588672,  0.12935072],\n",
       "        [-0.20737529,  0.08549601,  0.28627896,  0.27759415,  0.17835319,\n",
       "         -0.48935294, -0.5076034 , -0.20882428],\n",
       "        [-0.42160457,  0.14776039,  0.30038667, -0.07803187, -0.05444574,\n",
       "         -0.3711143 ,  0.5355717 ,  0.11945862],\n",
       "        [-0.36969978, -0.424104  , -0.33847037,  0.10065287,  0.46961057,\n",
       "         -0.3708965 ,  0.14016765,  0.15387392],\n",
       "        [ 0.32868534,  0.27095556,  0.03497529,  0.00058973, -0.11532837,\n",
       "         -0.11497226, -0.12656268, -0.18192735],\n",
       "        [-0.35064214, -0.22149971, -0.18052197, -0.18258539, -0.385385  ,\n",
       "          0.45506322,  0.26016384, -0.27706394],\n",
       "        [-0.40415835, -0.3949859 , -0.25545958, -0.5423575 ,  0.06364679,\n",
       "          0.32937717,  0.36093998, -0.28949246],\n",
       "        [ 0.45915902,  0.0484246 , -0.3997867 ,  0.14360666,  0.409414  ,\n",
       "         -0.4334697 , -0.402239  , -0.24689868],\n",
       "        [ 0.02578616, -0.3294819 , -0.23750004, -0.23255852, -0.20909578,\n",
       "          0.02818245,  0.50134695,  0.4096626 ],\n",
       "        [-0.34343582,  0.01123548,  0.08389968,  0.17249411,  0.1892606 ,\n",
       "          0.06106675, -0.3702715 , -0.08198476],\n",
       "        [-0.18856627, -0.21300593, -0.05115572, -0.4046986 ,  0.0126766 ,\n",
       "         -0.2399137 ,  0.37805647,  0.39337432]], dtype=float32),\n",
       " array([0., 0., 0., 0., 0., 0., 0., 0.], dtype=float32),\n",
       " array([[-0.56330895],\n",
       "        [ 0.22501862],\n",
       "        [-0.24777162],\n",
       "        [ 0.15060294],\n",
       "        [-0.6259745 ],\n",
       "        [-0.69430315],\n",
       "        [-0.6131202 ],\n",
       "        [-0.18318564]], dtype=float32),\n",
       " array([0.], dtype=float32)]"
      ]
     },
     "execution_count": 40,
     "metadata": {},
     "output_type": "execute_result"
    }
   ],
   "source": [
    "# Model output shape\n",
    "model.output_shape\n",
    "\n",
    "# Model summary\n",
    "model.summary()\n",
    "\n",
    "# Model config\n",
    "model.get_config()\n",
    "\n",
    "# List all weight tensors \n",
    "model.get_weights()"
   ]
  },
  {
   "cell_type": "code",
   "execution_count": 64,
   "metadata": {},
   "outputs": [
    {
     "name": "stdout",
     "output_type": "stream",
     "text": [
      "Epoch 1/20\n",
      "4352/4352 [==============================] - 10s 2ms/step - loss: 0.0133 - accuracy: 0.9979\n",
      "Epoch 2/20\n",
      "4352/4352 [==============================] - 12s 3ms/step - loss: 0.0105 - accuracy: 0.9977\n",
      "Epoch 3/20\n",
      "4352/4352 [==============================] - 12s 3ms/step - loss: 0.0110 - accuracy: 0.9977\n",
      "Epoch 4/20\n",
      "4352/4352 [==============================] - 12s 3ms/step - loss: 0.0110 - accuracy: 0.9979\n",
      "Epoch 5/20\n",
      "4352/4352 [==============================] - 11s 2ms/step - loss: 0.0109 - accuracy: 0.9977\n",
      "Epoch 6/20\n",
      "4352/4352 [==============================] - 12s 3ms/step - loss: 0.0086 - accuracy: 0.9979\n",
      "Epoch 7/20\n",
      "4352/4352 [==============================] - 13s 3ms/step - loss: 0.0103 - accuracy: 0.9982\n",
      "Epoch 8/20\n",
      "4352/4352 [==============================] - 14s 3ms/step - loss: 0.0095 - accuracy: 0.9982\n",
      "Epoch 9/20\n",
      "4352/4352 [==============================] - 12s 3ms/step - loss: 0.0088 - accuracy: 0.9982\n",
      "Epoch 10/20\n",
      "4352/4352 [==============================] - 9s 2ms/step - loss: 0.0104 - accuracy: 0.9975\n",
      "Epoch 11/20\n",
      "4352/4352 [==============================] - 9s 2ms/step - loss: 0.0089 - accuracy: 0.9977\n",
      "Epoch 12/20\n",
      "4352/4352 [==============================] - 10s 2ms/step - loss: 0.0097 - accuracy: 0.9982\n",
      "Epoch 13/20\n",
      "4352/4352 [==============================] - 11s 2ms/step - loss: 0.0087 - accuracy: 0.9982\n",
      "Epoch 14/20\n",
      "4352/4352 [==============================] - 10s 2ms/step - loss: 0.0089 - accuracy: 0.9984\n",
      "Epoch 15/20\n",
      "4352/4352 [==============================] - 8s 2ms/step - loss: 0.0081 - accuracy: 0.9982\n",
      "Epoch 16/20\n",
      "4352/4352 [==============================] - 9s 2ms/step - loss: 0.0080 - accuracy: 0.9984\n",
      "Epoch 17/20\n",
      "4352/4352 [==============================] - 8s 2ms/step - loss: 0.0080 - accuracy: 0.9984\n",
      "Epoch 18/20\n",
      "4352/4352 [==============================] - 10s 2ms/step - loss: 0.0080 - accuracy: 0.9984\n",
      "Epoch 19/20\n",
      "4352/4352 [==============================] - 10s 2ms/step - loss: 0.0079 - accuracy: 0.9984\n",
      "Epoch 20/20\n",
      "4352/4352 [==============================] - 15s 3ms/step - loss: 0.0083 - accuracy: 0.9986\n"
     ]
    },
    {
     "data": {
      "text/plain": [
       "<keras.callbacks.callbacks.History at 0x1fd40a7bf98>"
      ]
     },
     "execution_count": 64,
     "metadata": {},
     "output_type": "execute_result"
    }
   ],
   "source": [
    "model.compile(loss='binary_crossentropy',\n",
    "              optimizer='adam',\n",
    "              metrics=['accuracy'])\n",
    "                   \n",
    "model.fit(X_train, y_train,epochs=20, batch_size=1, verbose=1)"
   ]
  },
  {
   "cell_type": "code",
   "execution_count": 73,
   "metadata": {},
   "outputs": [
    {
     "data": {
      "text/plain": [
       "array([0, 1, 0, 0, 0], dtype=int64)"
      ]
     },
     "execution_count": 73,
     "metadata": {},
     "output_type": "execute_result"
    }
   ],
   "source": [
    "y_test[:5]"
   ]
  },
  {
   "cell_type": "code",
   "execution_count": 74,
   "metadata": {},
   "outputs": [],
   "source": [
    "y_pre = model.predict(X_test)"
   ]
  },
  {
   "cell_type": "code",
   "execution_count": 85,
   "metadata": {},
   "outputs": [],
   "source": [
    "y_pred=np.round(y_pre)"
   ]
  },
  {
   "cell_type": "code",
   "execution_count": 81,
   "metadata": {},
   "outputs": [
    {
     "name": "stdout",
     "output_type": "stream",
     "text": [
      "2145/2145 [==============================] - 0s 125us/step\n",
      "[0.03349009080597179, 0.9944055676460266]\n"
     ]
    }
   ],
   "source": [
    "score = model.evaluate(X_test, y_test,verbose=1)\n",
    "\n",
    "print(score)"
   ]
  },
  {
   "cell_type": "code",
   "execution_count": 86,
   "metadata": {},
   "outputs": [
    {
     "data": {
      "text/plain": [
       "array([[1585,    3],\n",
       "       [   9,  548]], dtype=int64)"
      ]
     },
     "execution_count": 86,
     "metadata": {},
     "output_type": "execute_result"
    }
   ],
   "source": [
    "from sklearn.metrics import confusion_matrix, precision_score, recall_score, f1_score, cohen_kappa_score\n",
    "\n",
    "# Confusion matrix\n",
    "confusion_matrix(y_test, y_pred)"
   ]
  },
  {
   "cell_type": "code",
   "execution_count": 87,
   "metadata": {},
   "outputs": [
    {
     "data": {
      "text/plain": [
       "0.9945553539019963"
      ]
     },
     "execution_count": 87,
     "metadata": {},
     "output_type": "execute_result"
    }
   ],
   "source": [
    "precision_score(y_test, y_pred)"
   ]
  },
  {
   "cell_type": "code",
   "execution_count": 88,
   "metadata": {},
   "outputs": [
    {
     "data": {
      "text/plain": [
       "0.9838420107719928"
      ]
     },
     "execution_count": 88,
     "metadata": {},
     "output_type": "execute_result"
    }
   ],
   "source": [
    "recall_score(y_test, y_pred)"
   ]
  },
  {
   "cell_type": "code",
   "execution_count": 89,
   "metadata": {},
   "outputs": [
    {
     "data": {
      "text/plain": [
       "0.9891696750902527"
      ]
     },
     "execution_count": 89,
     "metadata": {},
     "output_type": "execute_result"
    }
   ],
   "source": [
    "f1_score(y_test,y_pred)"
   ]
  },
  {
   "cell_type": "code",
   "execution_count": 90,
   "metadata": {},
   "outputs": [
    {
     "data": {
      "text/plain": [
       "0.9853986111095354"
      ]
     },
     "execution_count": 90,
     "metadata": {},
     "output_type": "execute_result"
    }
   ],
   "source": [
    "cohen_kappa_score(y_test, y_pred)"
   ]
  },
  {
   "cell_type": "code",
   "execution_count": null,
   "metadata": {},
   "outputs": [],
   "source": []
  }
 ],
 "metadata": {
  "kernelspec": {
   "display_name": "Python 3",
   "language": "python",
   "name": "python3"
  },
  "language_info": {
   "codemirror_mode": {
    "name": "ipython",
    "version": 3
   },
   "file_extension": ".py",
   "mimetype": "text/x-python",
   "name": "python",
   "nbconvert_exporter": "python",
   "pygments_lexer": "ipython3",
   "version": "3.7.3"
  }
 },
 "nbformat": 4,
 "nbformat_minor": 2
}
